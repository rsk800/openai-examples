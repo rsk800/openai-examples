{
 "cells": [
  {
   "cell_type": "markdown",
   "id": "88cbbe1e",
   "metadata": {},
   "source": [
    "# End-to-end example of semantic text search using Azure OpenAI Service and Azure Cache for Redis Enterprise "
   ]
  },
  {
   "cell_type": "markdown",
   "id": "58600438",
   "metadata": {},
   "source": [
    "Referenced codes:\n",
    "- https://github.com/openai/openai-cookbook/blob/5b5f22812158002f19e24fcb5c9a391a6551c1e2/examples/Obtain_dataset.ipynb\n",
    "- https://github.com/openai/openai-cookbook/blob/main/examples/Semantic_text_search_using_embeddings.ipynb\n",
    "- https://github.com/RedisAI/vecsim-demo/blob/master/SemanticSearch1k.ipynb\n",
    "- https://redis-py.readthedocs.io/en/stable/examples/search_vector_similarity_examples.html\n",
    "\n",
    "Azure OpenAI Service References:\n",
    "- https://learn.microsoft.com/en-us/azure/cognitive-services/openai/quickstart?pivots=programming-language-studio\n",
    "- https://learn.microsoft.com/en-us/azure/cognitive-services/openai/how-to/embeddings?tabs=console\n",
    "\n",
    "Azure Cache for Redis Enterprise References:\n",
    "- https://learn.microsoft.com/en-us/azure/azure-cache-for-redis/quickstart-create-redis-enterprise\n",
    "- https://learn.microsoft.com/en-us/azure/azure-cache-for-redis/cache-redis-modules\n",
    "- https://redis.io/docs/stack/search/\n",
    "- https://redis.io/docs/stack/search/reference/vectors/\n",
    "- https://www.youtube.com/watch?v=_Lrbesg4DhY"
   ]
  },
  {
   "cell_type": "markdown",
   "id": "f9166f79",
   "metadata": {},
   "source": [
    "Pre-register environment variables."
   ]
  },
  {
   "cell_type": "code",
   "execution_count": null,
   "id": "138d4b26",
   "metadata": {},
   "outputs": [],
   "source": [
    "# For Ubuntu\n",
    "# !export OPENAI_NAME=<your-openai-name>\n",
    "# !export OPENAI_KEY=<your-openai-key>\n",
    "# !export REDIS_NAME=<your-redis-name>\n",
    "# !export REDIS_KEY=<your-redis-key>\n",
    "\n",
    "# For Windows\n",
    "# !set OPENAI_NAME=<your-openai-name>\n",
    "# !set OPENAI_KEY=<your-openai-key>\n",
    "# !set REDIS_NAME=<your-redis-name>\n",
    "# !set REDIS_KEY=<your-redis-key>"
   ]
  },
  {
   "cell_type": "code",
   "execution_count": 1,
   "id": "0db4775a",
   "metadata": {},
   "outputs": [],
   "source": [
    "import os\n",
    "\n",
    "import numpy as np\n",
    "import openai\n",
    "import pandas as pd\n",
    "import redis\n",
    "import tiktoken\n",
    "from openai.embeddings_utils import get_embedding, cosine_similarity\n",
    "from redis.commands.search.query import Query\n",
    "from redis.commands.search.result import Result\n",
    "from redis.commands.search.field import VectorField, TextField, NumericField"
   ]
  },
  {
   "cell_type": "code",
   "execution_count": 2,
   "id": "0c52dec4",
   "metadata": {},
   "outputs": [],
   "source": [
    "# Azure OpenAI Service parameters\n",
    "openai_name = os.environ[\"OPENAI_NAME\"]\n",
    "openai_uri = f\"https://{openai_name}.openai.azure.com/\"\n",
    "\n",
    "openai.api_type = \"azure\"\n",
    "# openai.api_base = \"https://<your-openai-name>.openai.azure.com/\"\n",
    "openai.api_base = openai_uri\n",
    "openai.api_version = \"2022-12-01\"\n",
    "# openai.api_key = \"<your-openai-key>\"\n",
    "openai.api_key = os.environ[\"OPENAI_KEY\"]"
   ]
  },
  {
   "cell_type": "markdown",
   "id": "525778aa",
   "metadata": {},
   "source": [
    "Use GPT-2/GPT-3 tokenizer for V1 models and use cl100k_base tokenizer for V2 models.\n",
    "- https://platform.openai.com/docs/guides/embeddings/what-are-embeddings\n",
    "\n",
    "Use text search embedding models in this example.\n",
    "- https://learn.microsoft.com/en-us/azure/cognitive-services/openai/concepts/models#text-search-embedding"
   ]
  },
  {
   "cell_type": "code",
   "execution_count": 3,
   "id": "42ec0cbd",
   "metadata": {},
   "outputs": [],
   "source": [
    "# embedding model parameters\n",
    "# embedding_model_for_doc = \"<your-deployment-name>\" \n",
    "embedding_model_for_doc = \"text-search-ada-doc-001\"\n",
    "# embedding_model_for_query = \"<your-deployment-name>\" \n",
    "embedding_model_for_query = \"text-search-ada-query-001\"\n",
    "# embedding_encoding = \"cl100k_base\"\n",
    "embedding_encoding = \"gpt2\" # these models above uses GPT-2/GPT-3 tokenizer\n",
    "max_tokens = 2000  # the number of max imput tokens is 2046\n",
    "embedding_dimension = 1024  # the number of output dimensions is 1024"
   ]
  },
  {
   "cell_type": "markdown",
   "id": "5057b461",
   "metadata": {},
   "source": [
    "### Load the dataset\n",
    "To save space, use a pre-filtered dataset. Download and copy to the folder named `data` that exists in the same directory as this notebook.\n",
    "- https://github.com/openai/openai-cookbook/blob/main/examples/data/fine_food_reviews_1k.csv\n",
    "\n",
    "The original dataset used in this example is fine-food reviews from Amazon. \n",
    "- https://www.kaggle.com/datasets/snap/amazon-fine-food-reviews"
   ]
  },
  {
   "cell_type": "code",
   "execution_count": 4,
   "id": "08dc27c7",
   "metadata": {},
   "outputs": [
    {
     "data": {
      "text/html": [
       "<div>\n",
       "<style scoped>\n",
       "    .dataframe tbody tr th:only-of-type {\n",
       "        vertical-align: middle;\n",
       "    }\n",
       "\n",
       "    .dataframe tbody tr th {\n",
       "        vertical-align: top;\n",
       "    }\n",
       "\n",
       "    .dataframe thead th {\n",
       "        text-align: right;\n",
       "    }\n",
       "</style>\n",
       "<table border=\"1\" class=\"dataframe\">\n",
       "  <thead>\n",
       "    <tr style=\"text-align: right;\">\n",
       "      <th></th>\n",
       "      <th>Time</th>\n",
       "      <th>ProductId</th>\n",
       "      <th>UserId</th>\n",
       "      <th>Score</th>\n",
       "      <th>Summary</th>\n",
       "      <th>Text</th>\n",
       "      <th>Combined</th>\n",
       "    </tr>\n",
       "  </thead>\n",
       "  <tbody>\n",
       "    <tr>\n",
       "      <th>0</th>\n",
       "      <td>1351123200</td>\n",
       "      <td>B003XPF9BO</td>\n",
       "      <td>A3R7JR3FMEBXQB</td>\n",
       "      <td>5</td>\n",
       "      <td>where does one  start...and stop... with a tre...</td>\n",
       "      <td>Wanted to save some to bring to my Chicago fam...</td>\n",
       "      <td>Title: where does one  start...and stop... wit...</td>\n",
       "    </tr>\n",
       "    <tr>\n",
       "      <th>1</th>\n",
       "      <td>1351123200</td>\n",
       "      <td>B003JK537S</td>\n",
       "      <td>A3JBPC3WFUT5ZP</td>\n",
       "      <td>1</td>\n",
       "      <td>Arrived in pieces</td>\n",
       "      <td>Not pleased at all. When I opened the box, mos...</td>\n",
       "      <td>Title: Arrived in pieces; Content: Not pleased...</td>\n",
       "    </tr>\n",
       "  </tbody>\n",
       "</table>\n",
       "</div>"
      ],
      "text/plain": [
       "         Time   ProductId          UserId  Score  \\\n",
       "0  1351123200  B003XPF9BO  A3R7JR3FMEBXQB      5   \n",
       "1  1351123200  B003JK537S  A3JBPC3WFUT5ZP      1   \n",
       "\n",
       "                                             Summary  \\\n",
       "0  where does one  start...and stop... with a tre...   \n",
       "1                                  Arrived in pieces   \n",
       "\n",
       "                                                Text  \\\n",
       "0  Wanted to save some to bring to my Chicago fam...   \n",
       "1  Not pleased at all. When I opened the box, mos...   \n",
       "\n",
       "                                            Combined  \n",
       "0  Title: where does one  start...and stop... wit...  \n",
       "1  Title: Arrived in pieces; Content: Not pleased...  "
      ]
     },
     "execution_count": 4,
     "metadata": {},
     "output_type": "execute_result"
    }
   ],
   "source": [
    "# load & inspect dataset\n",
    "input_datapath = \"data/fine_food_reviews_1k.csv\"\n",
    "\n",
    "df = pd.read_csv(input_datapath, index_col=0)\n",
    "df = df[[\"Time\", \"ProductId\", \"UserId\", \"Score\", \"Summary\", \"Text\"]]\n",
    "df = df.dropna()\n",
    "df[\"Combined\"] = (\n",
    "    \"Title: \" + df.Summary.str.strip() + \"; Content: \" + df.Text.str.strip()\n",
    ")\n",
    "\n",
    "df.head(2)"
   ]
  },
  {
   "cell_type": "code",
   "execution_count": 5,
   "id": "b43d7b21",
   "metadata": {},
   "outputs": [
    {
     "data": {
      "text/html": [
       "<div>\n",
       "<style scoped>\n",
       "    .dataframe tbody tr th:only-of-type {\n",
       "        vertical-align: middle;\n",
       "    }\n",
       "\n",
       "    .dataframe tbody tr th {\n",
       "        vertical-align: top;\n",
       "    }\n",
       "\n",
       "    .dataframe thead th {\n",
       "        text-align: right;\n",
       "    }\n",
       "</style>\n",
       "<table border=\"1\" class=\"dataframe\">\n",
       "  <thead>\n",
       "    <tr style=\"text-align: right;\">\n",
       "      <th></th>\n",
       "      <th>ProductId</th>\n",
       "      <th>UserId</th>\n",
       "      <th>Score</th>\n",
       "      <th>Summary</th>\n",
       "      <th>Text</th>\n",
       "      <th>Combined</th>\n",
       "      <th>N_tokens</th>\n",
       "    </tr>\n",
       "  </thead>\n",
       "  <tbody>\n",
       "    <tr>\n",
       "      <th>0</th>\n",
       "      <td>B003XPF9BO</td>\n",
       "      <td>A3R7JR3FMEBXQB</td>\n",
       "      <td>5</td>\n",
       "      <td>where does one  start...and stop... with a tre...</td>\n",
       "      <td>Wanted to save some to bring to my Chicago fam...</td>\n",
       "      <td>Title: where does one  start...and stop... wit...</td>\n",
       "      <td>51</td>\n",
       "    </tr>\n",
       "    <tr>\n",
       "      <th>297</th>\n",
       "      <td>B003VXHGPK</td>\n",
       "      <td>A21VWSCGW7UUAR</td>\n",
       "      <td>4</td>\n",
       "      <td>Good, but not Wolfgang Puck good</td>\n",
       "      <td>Honestly, I have to admit that I expected a li...</td>\n",
       "      <td>Title: Good, but not Wolfgang Puck good; Conte...</td>\n",
       "      <td>178</td>\n",
       "    </tr>\n",
       "  </tbody>\n",
       "</table>\n",
       "</div>"
      ],
      "text/plain": [
       "      ProductId          UserId  Score  \\\n",
       "0    B003XPF9BO  A3R7JR3FMEBXQB      5   \n",
       "297  B003VXHGPK  A21VWSCGW7UUAR      4   \n",
       "\n",
       "                                               Summary  \\\n",
       "0    where does one  start...and stop... with a tre...   \n",
       "297                   Good, but not Wolfgang Puck good   \n",
       "\n",
       "                                                  Text  \\\n",
       "0    Wanted to save some to bring to my Chicago fam...   \n",
       "297  Honestly, I have to admit that I expected a li...   \n",
       "\n",
       "                                              Combined  N_tokens  \n",
       "0    Title: where does one  start...and stop... wit...        51  \n",
       "297  Title: Good, but not Wolfgang Puck good; Conte...       178  "
      ]
     },
     "metadata": {},
     "output_type": "display_data"
    },
    {
     "name": "stdout",
     "output_type": "stream",
     "text": [
      "1000\n"
     ]
    }
   ],
   "source": [
    "# subsample to 1k most recent reviews and remove samples that are too long\n",
    "top_n = 1000\n",
    "df = df.sort_values(\"Time\").tail(top_n * 2)  # first cut to first 2k entries, assuming less than half will be filtered out\n",
    "df.drop(\"Time\", axis=1, inplace=True)\n",
    "\n",
    "encoding = tiktoken.get_encoding(embedding_encoding)\n",
    "\n",
    "# omit reviews that are too long to embed\n",
    "df[\"N_tokens\"] = df[\"Combined\"].apply(lambda x: len(encoding.encode(x)))\n",
    "df = df[df[\"N_tokens\"] <= max_tokens].tail(top_n)\n",
    "\n",
    "display(df.head(2))\n",
    "print(len(df))"
   ]
  },
  {
   "cell_type": "markdown",
   "id": "047757b2",
   "metadata": {},
   "source": [
    "### Get embeddings and save them for future reuse"
   ]
  },
  {
   "cell_type": "code",
   "execution_count": 6,
   "id": "c33e0dc9",
   "metadata": {},
   "outputs": [
    {
     "name": "stdout",
     "output_type": "stream",
     "text": [
      "CPU times: user 4.19 s, sys: 358 ms, total: 4.54 s\n",
      "Wall time: 3min 9s\n"
     ]
    },
    {
     "data": {
      "text/html": [
       "<div>\n",
       "<style scoped>\n",
       "    .dataframe tbody tr th:only-of-type {\n",
       "        vertical-align: middle;\n",
       "    }\n",
       "\n",
       "    .dataframe tbody tr th {\n",
       "        vertical-align: top;\n",
       "    }\n",
       "\n",
       "    .dataframe thead th {\n",
       "        text-align: right;\n",
       "    }\n",
       "</style>\n",
       "<table border=\"1\" class=\"dataframe\">\n",
       "  <thead>\n",
       "    <tr style=\"text-align: right;\">\n",
       "      <th></th>\n",
       "      <th>ProductId</th>\n",
       "      <th>UserId</th>\n",
       "      <th>Score</th>\n",
       "      <th>Summary</th>\n",
       "      <th>Text</th>\n",
       "      <th>Combined</th>\n",
       "      <th>N_tokens</th>\n",
       "      <th>Embedding</th>\n",
       "    </tr>\n",
       "  </thead>\n",
       "  <tbody>\n",
       "    <tr>\n",
       "      <th>0</th>\n",
       "      <td>B003XPF9BO</td>\n",
       "      <td>A3R7JR3FMEBXQB</td>\n",
       "      <td>5</td>\n",
       "      <td>where does one  start...and stop... with a tre...</td>\n",
       "      <td>Wanted to save some to bring to my Chicago fam...</td>\n",
       "      <td>Title: where does one  start...and stop... wit...</td>\n",
       "      <td>51</td>\n",
       "      <td>[0.04436948895454407, 0.002606603316962719, -0...</td>\n",
       "    </tr>\n",
       "    <tr>\n",
       "      <th>297</th>\n",
       "      <td>B003VXHGPK</td>\n",
       "      <td>A21VWSCGW7UUAR</td>\n",
       "      <td>4</td>\n",
       "      <td>Good, but not Wolfgang Puck good</td>\n",
       "      <td>Honestly, I have to admit that I expected a li...</td>\n",
       "      <td>Title: Good, but not Wolfgang Puck good; Conte...</td>\n",
       "      <td>178</td>\n",
       "      <td>[-0.002989507280290127, 0.010171078145503998, ...</td>\n",
       "    </tr>\n",
       "  </tbody>\n",
       "</table>\n",
       "</div>"
      ],
      "text/plain": [
       "      ProductId          UserId  Score  \\\n",
       "0    B003XPF9BO  A3R7JR3FMEBXQB      5   \n",
       "297  B003VXHGPK  A21VWSCGW7UUAR      4   \n",
       "\n",
       "                                               Summary  \\\n",
       "0    where does one  start...and stop... with a tre...   \n",
       "297                   Good, but not Wolfgang Puck good   \n",
       "\n",
       "                                                  Text  \\\n",
       "0    Wanted to save some to bring to my Chicago fam...   \n",
       "297  Honestly, I have to admit that I expected a li...   \n",
       "\n",
       "                                              Combined  N_tokens  \\\n",
       "0    Title: where does one  start...and stop... wit...        51   \n",
       "297  Title: Good, but not Wolfgang Puck good; Conte...       178   \n",
       "\n",
       "                                             Embedding  \n",
       "0    [0.04436948895454407, 0.002606603316962719, -0...  \n",
       "297  [-0.002989507280290127, 0.010171078145503998, ...  "
      ]
     },
     "execution_count": 6,
     "metadata": {},
     "output_type": "execute_result"
    }
   ],
   "source": [
    "%%time\n",
    "# This may take a few minutes\n",
    "df[\"Embedding\"] = df[\"Combined\"].apply(lambda x: get_embedding(x, engine=embedding_model_for_doc))\n",
    "df.to_csv(\"data/fine_food_reviews_with_embeddings_1k.csv\")\n",
    "\n",
    "df.head(2)"
   ]
  },
  {
   "cell_type": "markdown",
   "id": "2cb97bcf",
   "metadata": {},
   "source": [
    "### Semantic text search using embeddings"
   ]
  },
  {
   "cell_type": "code",
   "execution_count": 7,
   "id": "d74059cb",
   "metadata": {},
   "outputs": [],
   "source": [
    "# if read embedding from the csv file created above, remove the following comments\n",
    "\n",
    "# %%time\n",
    "# datafile_path = \"data/fine_food_reviews_with_embeddings_1k.csv\"\n",
    "# df = pd.read_csv(datafile_path, index_col=0)\n",
    "# df[\"Embedding\"] = df[\"Embedding\"].apply(eval).apply(np.array)\n",
    "\n",
    "# df.head(2)"
   ]
  },
  {
   "cell_type": "code",
   "execution_count": 8,
   "id": "d1b8f356",
   "metadata": {},
   "outputs": [],
   "source": [
    "# search through the reviews for a specific product on local PC\n",
    "def search_reviews(df, description, n=3, pprint=True, engine=\"text-search-ada-query-001\"):\n",
    "    embedding = get_embedding(description, engine=engine)\n",
    "    df[\"Similarity\"] = df[\"Embedding\"].apply(lambda x: cosine_similarity(x, embedding))  # Use cosine similarity\n",
    "    df[\"Ret_Combined\"] = df[\"Combined\"].str.replace(\"Title: \", \"\").str.replace(\"; Content:\", \": \")\n",
    "    results = (\n",
    "        df.sort_values(\"Similarity\", ascending=False)\n",
    "        .head(n)\n",
    "        .loc[:,[\"Similarity\", \"Ret_Combined\"]]\n",
    "    )\n",
    "    if pprint:\n",
    "        for i,r in results.iterrows():\n",
    "            print(\"%s | %s\\n\" % (r[\"Similarity\"], r[\"Ret_Combined\"][:200]))\n",
    "    return results"
   ]
  },
  {
   "cell_type": "code",
   "execution_count": 9,
   "id": "445ba9fb",
   "metadata": {},
   "outputs": [
    {
     "name": "stdout",
     "output_type": "stream",
     "text": [
      "0.3770173260434461 | Best beans your money can buy:  These are, hands down, the best jelly beans on the market.  There isn't a gross one in the bunch and each of them has an intense, delicious flavor.  Though I hesitate t\n",
      "\n",
      "0.37512639635782036 | Delicious!:  I enjoy this white beans seasoning, it gives a rich flavor to the beans I just love it, my mother in law didn't know about this Zatarain's brand and now she is traying different seasoning\n",
      "\n",
      "0.37370195283798296 | Jamaican Blue beans:  Excellent coffee bean for roasting. Our family just purchased another 5 pounds for more roasting. Plenty of flavor and mild on acidity when roasted to a dark brown bean and befor\n",
      "\n"
     ]
    }
   ],
   "source": [
    "results = search_reviews(df, \"delicious beans\", n=3, engine=embedding_model_for_query)"
   ]
  },
  {
   "cell_type": "code",
   "execution_count": 10,
   "id": "00c19bac",
   "metadata": {},
   "outputs": [
    {
     "name": "stdout",
     "output_type": "stream",
     "text": [
      "0.4129591672746144 | Bland and vaguely gamy tasting, skip this one:  As far as prepared dinner kits go, \"Barilla Whole Grain Mezze Penne with Tomato and Basil Sauce\" just did not do it for me...and this is coming from a p\n",
      "\n",
      "0.39829441154909384 | Tasty and Quick Pasta:  Barilla Whole Grain Fusilli with Vegetable Marinara is tasty and has an excellent chunky vegetable marinara.  I just wish there was more of it.  If you aren't starving or on a \n",
      "\n",
      "0.3979758963573513 | sooo good:  tastes so good. Worth the money. My boyfriend hates wheat pasta and LOVES this. cooks fast tastes great.I love this brand and started buying more of their pastas. Bulk is best.\n",
      "\n"
     ]
    }
   ],
   "source": [
    "results = search_reviews(df, \"whole wheat pasta\", n=3, engine=embedding_model_for_query)"
   ]
  },
  {
   "cell_type": "code",
   "execution_count": 14,
   "id": "7ddc63b3",
   "metadata": {},
   "outputs": [
    {
     "name": "stdout",
     "output_type": "stream",
     "text": [
      "0.3692189044013717 | great product, poor delivery:  The coffee is excellent and I am a repeat buyer.  Problem this time was with the UPS delivery.  They left the box in front of my garage door in the middle of the drivewa\n",
      "\n",
      "0.3692189044013717 | great product, poor delivery:  The coffee is excellent and I am a repeat buyer.  Problem this time was with the UPS delivery.  They left the box in front of my garage door in the middle of the drivewa\n",
      "\n",
      "0.3692189044013717 | great product, poor delivery:  The coffee is excellent and I am a repeat buyer.  Problem this time was with the UPS delivery.  They left the box in front of my garage door in the middle of the drivewa\n",
      "\n"
     ]
    }
   ],
   "source": [
    "results = search_reviews(df, \"bad delivery\", n=3, engine=embedding_model_for_query)"
   ]
  },
  {
   "cell_type": "code",
   "execution_count": 15,
   "id": "2a3a1169",
   "metadata": {},
   "outputs": [
    {
     "name": "stdout",
     "output_type": "stream",
     "text": [
      "0.27814680872535336 | Supurb:  I was introduced to Lagavulin 16 three days ago. I'm no single malt Scotch authority, but this was straight out delicious; better than anything I've tried, including highly-touted and expensi\n",
      "\n",
      "0.2730928788578238 | More Good Stuff:  Spitting seeds may not seem too etiquite but it sure is fun. All the available flavors are so intense it is hard to quit. It is however recommended to keep them to yourself and dispo\n",
      "\n",
      "0.2720145903089504 | Disappointed:  The metal cover has severely disformed. And most of the cookies inside have been crushed into small pieces. Shopping experience is awful. I'll never buy it online again.\n",
      "\n"
     ]
    }
   ],
   "source": [
    "results = search_reviews(df, \"spoilt\", n=3, engine=embedding_model_for_query)"
   ]
  },
  {
   "cell_type": "code",
   "execution_count": 16,
   "id": "09cd9982",
   "metadata": {},
   "outputs": [
    {
     "name": "stdout",
     "output_type": "stream",
     "text": [
      "0.37976877329898806 | Good food:  The only dry food my queen cat will eat. Helps prevent hair balls. Good packaging. Arrives promptly. Recommended by a friend who sells pet food.\n",
      "\n",
      "0.356221526222854 | Good product:  I like that this is a better product for my pets but really for the price of it I couldn't afford to buy this all the time. My cat isn't very picky usually and she ate this, we usually \n",
      "\n",
      "0.3532099786500319 | Perfect for Giving Medications to Our Dogs:  Every month, we give our three dogs (two Aussies and a Golden/Flat-Coat Retriever mix) pills for flea/tick/worm repellant.  In addition, one of our Aussies\n",
      "\n"
     ]
    }
   ],
   "source": [
    "results = search_reviews(df, \"pet food\", n=3, engine=embedding_model_for_query)"
   ]
  },
  {
   "cell_type": "markdown",
   "id": "0f0edeb3",
   "metadata": {},
   "source": [
    "Putting aside the accuracy, it is possible to  throw queries in another language than English."
   ]
  },
  {
   "cell_type": "code",
   "execution_count": 17,
   "id": "004501db",
   "metadata": {},
   "outputs": [
    {
     "name": "stdout",
     "output_type": "stream",
     "text": [
      "0.3027765950820416 | Simple and Authentic:  This is a fantastic do-it-yourself poke product. Just add sesame oil and green onion for color then enjoy your authentic Hawaiian treat!\n",
      "\n",
      "0.30150749900539286 | spicy:  It is a too spicy grocery in japan.<br /><br />If you cook for udon or something, you can use one.<br /><br />You should buy one.\n",
      "\n",
      "0.2937023705102833 | sesamiOil:  This is a good grocery for us.<br /><br />If you cook something,you can use it.<br /><br />It is smells so good.<br /><br />You should buy it.\n",
      "\n"
     ]
    }
   ],
   "source": [
    "results = search_reviews(df, \"おいしいお豆\", n=3, engine=embedding_model_for_query)"
   ]
  },
  {
   "cell_type": "markdown",
   "id": "5be1328d",
   "metadata": {},
   "source": [
    "### Store vectors in Redis Enterprise"
   ]
  },
  {
   "cell_type": "code",
   "execution_count": 18,
   "id": "2b2b0233",
   "metadata": {},
   "outputs": [],
   "source": [
    "# redis_name = \"<your-redis-name>\"\n",
    "redis_name = os.environ[\"REDIS_NAME\"]\n",
    "redis_host = f\"{redis_name}.southcentralus.redisenterprise.cache.azure.net\"  # Example of redis in the South Central US region\n",
    "# redis_key =  \"<your-redis-key>\"\n",
    "redis_key = os.environ[\"REDIS_KEY\"]"
   ]
  },
  {
   "cell_type": "code",
   "execution_count": 19,
   "id": "5d39e3b0",
   "metadata": {},
   "outputs": [],
   "source": [
    "redis_conn = redis.StrictRedis(host=redis_host,port=10000, password=redis_key, ssl=True)"
   ]
  },
  {
   "cell_type": "markdown",
   "id": "863cc9c7",
   "metadata": {},
   "source": [
    "Choose Hierarchical Navigable Small World (HNSW) index for efficient searches by Approximate Nearest Neighbor (ANN).\n",
    "- https://redis.io/docs/stack/search/reference/vectors/"
   ]
  },
  {
   "cell_type": "code",
   "execution_count": 21,
   "id": "b590e6dc",
   "metadata": {},
   "outputs": [
    {
     "data": {
      "text/plain": [
       "b'OK'"
      ]
     },
     "execution_count": 21,
     "metadata": {},
     "output_type": "execute_result"
    }
   ],
   "source": [
    "# create index on vector field\n",
    "schema = ([\n",
    "    VectorField(\"Embedding\", \"HNSW\", {\"TYPE\": \"FLOAT32\", \"DIM\": embedding_dimension, \"DISTANCE_METRIC\": \"COSINE\"}),  # RediSearch uses cosine DISTANCE\n",
    "    TextField(\"ProductId\"),\n",
    "    TextField(\"UserId\"),\n",
    "    NumericField(\"Score\"),\n",
    "    TextField(\"Summary\"),\n",
    "    TextField(\"Text\"),\n",
    "    TextField(\"Combined\"),\n",
    "    NumericField(\"N_tokens\")\n",
    "])\n",
    "# redis_conn.ft().dropindex(schema)   # remove comment if drop-create index\n",
    "redis_conn.ft().create_index(schema)"
   ]
  },
  {
   "cell_type": "code",
   "execution_count": 23,
   "id": "71817974",
   "metadata": {},
   "outputs": [
    {
     "name": "stdout",
     "output_type": "stream",
     "text": [
      "CPU times: user 1.01 s, sys: 59.8 ms, total: 1.07 s\n",
      "Wall time: 2min 32s\n"
     ]
    }
   ],
   "source": [
    "%%time\n",
    "# store data into redis\n",
    "for i, row in df.iterrows():\n",
    "    d = {\n",
    "        \"Embedding\": np.array(row[\"Embedding\"]).astype(np.float32).tobytes(),\n",
    "        \"ProductId\": row[\"ProductId\"],\n",
    "        \"UserId\":    row[\"UserId\"],\n",
    "        \"Score\":     row[\"Score\"],\n",
    "        \"Summary\":   row[\"Summary\"],\n",
    "        \"Text\":      row[\"Text\"],\n",
    "        \"Combined\":  row[\"Combined\"],\n",
    "        \"N_tokens\":  row[\"N_tokens\"]\n",
    "    }\n",
    "    redis_conn.hset(str(i), mapping=d)"
   ]
  },
  {
   "cell_type": "markdown",
   "id": "6c701a5a",
   "metadata": {},
   "source": [
    "### Semantic text search by RediSearch\n",
    "Vector search query samples:\n",
    "- https://redis.io/docs/stack/search/reference/vectors/#vector-search-examples"
   ]
  },
  {
   "cell_type": "code",
   "execution_count": 24,
   "id": "dc70ca6d",
   "metadata": {},
   "outputs": [],
   "source": [
    "# search through the reviews for a specific product on Redis using RediSearch\n",
    "def search_reviews_redis(query, n=3, pprint=True, engine=\"text-search-ada-query-001\"):\n",
    "    q_vec = np.array(get_embedding(query, engine=engine)).astype(np.float32).tobytes()\n",
    "    \n",
    "    q = Query(f\"*=>[KNN {n} @Embedding $vec_param AS vector_score]\").sort_by(\"vector_score\").paging(0,n).return_fields(\"vector_score\", \"Combined\").return_fields(\"vector_score\").dialect(2)\n",
    "    params_dict = {\"vec_param\": q_vec}\n",
    "    ret_redis = redis_conn.ft().search(q, query_params = params_dict)\n",
    "    \n",
    "    columns = [\"Similarity\", \"Ret_Combined\"]\n",
    "    ret_df = pd.DataFrame(columns=columns)\n",
    "    for doc in ret_redis.docs:\n",
    "        sim = 1 - float(doc.vector_score)  # converts cosine DISTANCE to cosine SIMILARITY\n",
    "        com = doc.Combined[:200].replace(\"Title: \", \"\").replace(\"; Content:\", \": \")\n",
    "        append_df = pd.DataFrame(data=[[sim, com]], columns=columns)\n",
    "        ret_df = pd.concat([ret_df, append_df], ignore_index=True, axis=0)\n",
    "        if pprint:\n",
    "            print(\"%s | %s\\n\" % (sim, com))\n",
    "    return ret_df"
   ]
  },
  {
   "cell_type": "code",
   "execution_count": 25,
   "id": "1b706556",
   "metadata": {},
   "outputs": [
    {
     "name": "stdout",
     "output_type": "stream",
     "text": [
      "0.375126361847 | Delicious!:  I enjoy this white beans seasoning, it gives a rich flavor to the beans I just love it, my mother in law didn't know about this Zatarain's brand and now she is traying diff\n",
      "\n",
      "0.37370193004600005 | Jamaican Blue beans:  Excellent coffee bean for roasting. Our family just purchased another 5 pounds for more roasting. Plenty of flavor and mild on acidity when roasted to a dark brown\n",
      "\n",
      "0.373187303543 | Good Buy:  I liked the beans. They were vacuum sealed, plump and moist. Would recommend them for any use. I personally split and stuck them in some vodka to make vanilla extract. Yum!\n",
      "\n"
     ]
    }
   ],
   "source": [
    "results_redis = search_reviews_redis(\"delicious beans\", n=3, engine=embedding_model_for_query)"
   ]
  },
  {
   "cell_type": "markdown",
   "id": "e4f5c0fd",
   "metadata": {},
   "source": [
    "Comparison with the cosine similarity calculated on the code above"
   ]
  },
  {
   "cell_type": "code",
   "execution_count": 26,
   "id": "aca062dd",
   "metadata": {},
   "outputs": [
    {
     "name": "stdout",
     "output_type": "stream",
     "text": [
      "0.3770173260434461 | Best beans your money can buy:  These are, hands down, the best jelly beans on the market.  There isn't a gross one in the bunch and each of them has an intense, delicious flavor.  Though I hesitate t\n",
      "\n",
      "0.37512639635782036 | Delicious!:  I enjoy this white beans seasoning, it gives a rich flavor to the beans I just love it, my mother in law didn't know about this Zatarain's brand and now she is traying different seasoning\n",
      "\n",
      "0.37370195283798296 | Jamaican Blue beans:  Excellent coffee bean for roasting. Our family just purchased another 5 pounds for more roasting. Plenty of flavor and mild on acidity when roasted to a dark brown bean and befor\n",
      "\n"
     ]
    }
   ],
   "source": [
    "results = search_reviews(df, \"delicious beans\", n=3, engine=embedding_model_for_query)"
   ]
  },
  {
   "cell_type": "code",
   "execution_count": null,
   "id": "fc77d361",
   "metadata": {},
   "outputs": [],
   "source": [
    "# redis_conn.flushall()  # remove comment if flush all the databases\n",
    "# redis_conn.keys()"
   ]
  },
  {
   "cell_type": "code",
   "execution_count": 2,
   "id": "3c7ceabf",
   "metadata": {},
   "outputs": [
    {
     "name": "stdout",
     "output_type": "stream",
     "text": [
      "[NbConvertApp] Converting notebook semantic-text-search-with-azure-openai-and-redis-e2e.ipynb to html\n",
      "[NbConvertApp] Writing 643802 bytes to semantic-text-search-with-azure-openai-and-redis-e2e.html\n"
     ]
    }
   ],
   "source": [
    "# !jupyter nbconvert --to html semantic-text-search-with-azure-openai-and-redis-e2e.ipynb"
   ]
  },
  {
   "cell_type": "code",
   "execution_count": null,
   "id": "fc8d20db",
   "metadata": {},
   "outputs": [],
   "source": []
  }
 ],
 "metadata": {
  "kernelspec": {
   "display_name": "Python 3 (ipykernel)",
   "language": "python",
   "name": "python3"
  },
  "language_info": {
   "codemirror_mode": {
    "name": "ipython",
    "version": 3
   },
   "file_extension": ".py",
   "mimetype": "text/x-python",
   "name": "python",
   "nbconvert_exporter": "python",
   "pygments_lexer": "ipython3",
   "version": "3.10.6"
  }
 },
 "nbformat": 4,
 "nbformat_minor": 5
}
